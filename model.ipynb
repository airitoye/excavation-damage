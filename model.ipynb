{
 "cells": [
  {
   "cell_type": "markdown",
   "id": "lyric-routine",
   "metadata": {},
   "source": [
    "# Homework 5"
   ]
  },
  {
   "cell_type": "markdown",
   "id": "younger-norfolk",
   "metadata": {},
   "source": [
    "## Dictionaries"
   ]
  },
  {
   "cell_type": "code",
   "execution_count": 2,
   "id": "prescribed-entrepreneur",
   "metadata": {},
   "outputs": [],
   "source": [
    "input = {'District_Haz': 1, 'Exc_Haz': 1, 'De_Haz': 1, 'Li_Haz': 1}\n",
    "output = {'Leak_Haz': 1}"
   ]
  },
  {
   "cell_type": "markdown",
   "id": "satisfied-bearing",
   "metadata": {},
   "source": [
    "## Feature engineering"
   ]
  },
  {
   "cell_type": "code",
   "execution_count": 3,
   "id": "removed-venue",
   "metadata": {},
   "outputs": [],
   "source": [
    "# Standard libraries:\n",
    "import inspect\n",
    "from time import time\n",
    "\n",
    "# Third-party libraries:\n",
    "import numpy as np\n",
    "import pandas as pd\n",
    "import sklearn\n",
    "from sklearn.linear_model import LogisticRegression\n",
    "from sklearn.metrics import accuracy_score, confusion_matrix, f1_score, \\\n",
    "                            mean_squared_error, roc_auc_score\n",
    "from sklearn.model_selection import train_test_split"
   ]
  },
  {
   "cell_type": "code",
   "execution_count": 4,
   "id": "ranking-syntax",
   "metadata": {},
   "outputs": [
    {
     "name": "stdout",
     "output_type": "stream",
     "text": [
      "Wall time: 252 ms\n"
     ]
    },
    {
     "data": {
      "text/html": [
       "<div>\n",
       "<style scoped>\n",
       "    .dataframe tbody tr th:only-of-type {\n",
       "        vertical-align: middle;\n",
       "    }\n",
       "\n",
       "    .dataframe tbody tr th {\n",
       "        vertical-align: top;\n",
       "    }\n",
       "\n",
       "    .dataframe thead th {\n",
       "        text-align: right;\n",
       "    }\n",
       "</style>\n",
       "<table border=\"1\" class=\"dataframe\">\n",
       "  <thead>\n",
       "    <tr style=\"text-align: right;\">\n",
       "      <th></th>\n",
       "      <th>Ag Bg</th>\n",
       "      <th>Condition</th>\n",
       "      <th>DIMP Material for Analysis</th>\n",
       "      <th>DIMP Wrap</th>\n",
       "      <th>Dimpcp</th>\n",
       "      <th>DIMPCause1</th>\n",
       "      <th>DIMPCause2</th>\n",
       "      <th>DIMPCause3</th>\n",
       "      <th>DIMP Pressure</th>\n",
       "      <th>Damaging Equipment</th>\n",
       "      <th>...</th>\n",
       "      <th>Leak Code for DOT</th>\n",
       "      <th>Leak Code for Reporting</th>\n",
       "      <th>Leak In</th>\n",
       "      <th>Material</th>\n",
       "      <th>Pipe Size</th>\n",
       "      <th>Region</th>\n",
       "      <th>Reporting Year</th>\n",
       "      <th>Riser Type</th>\n",
       "      <th>Type of Excavator</th>\n",
       "      <th>Type Repair</th>\n",
       "    </tr>\n",
       "  </thead>\n",
       "  <tbody>\n",
       "    <tr>\n",
       "      <th>23842</th>\n",
       "      <td>BG</td>\n",
       "      <td>---</td>\n",
       "      <td>PE</td>\n",
       "      <td>Not Populated</td>\n",
       "      <td>Not Populated</td>\n",
       "      <td>Excavation Damage</td>\n",
       "      <td>Excavation Damage by Third Party</td>\n",
       "      <td>Contractor</td>\n",
       "      <td>Medium Pressure</td>\n",
       "      <td>Hand Tools</td>\n",
       "      <td>...</td>\n",
       "      <td>Hazardous</td>\n",
       "      <td>Code 1</td>\n",
       "      <td>Pipe</td>\n",
       "      <td>Plastic - Polyethylene</td>\n",
       "      <td>1/2\" CTS</td>\n",
       "      <td>1</td>\n",
       "      <td>2015</td>\n",
       "      <td>NaN</td>\n",
       "      <td>Contractor</td>\n",
       "      <td>Altered Service - Immediate</td>\n",
       "    </tr>\n",
       "    <tr>\n",
       "      <th>26978</th>\n",
       "      <td>BG</td>\n",
       "      <td>NaN</td>\n",
       "      <td>PE</td>\n",
       "      <td>Not Populated</td>\n",
       "      <td>Not Populated</td>\n",
       "      <td>Excavation Damage</td>\n",
       "      <td>Excavation Damage by Third Party</td>\n",
       "      <td>Unknown</td>\n",
       "      <td>Medium Pressure</td>\n",
       "      <td>NaN</td>\n",
       "      <td>...</td>\n",
       "      <td>Hazardous</td>\n",
       "      <td>Code 1</td>\n",
       "      <td>Pipe</td>\n",
       "      <td>Plastic - Polyethylene</td>\n",
       "      <td>1/2\" CTS</td>\n",
       "      <td>4</td>\n",
       "      <td>2018</td>\n",
       "      <td>NP</td>\n",
       "      <td>NaN</td>\n",
       "      <td>Altered Service - Immediate</td>\n",
       "    </tr>\n",
       "    <tr>\n",
       "      <th>26056</th>\n",
       "      <td>BG</td>\n",
       "      <td>---</td>\n",
       "      <td>PE</td>\n",
       "      <td>Not Populated</td>\n",
       "      <td>Not Populated</td>\n",
       "      <td>Excavation Damage</td>\n",
       "      <td>Excavation Damage by Third Party</td>\n",
       "      <td>Contractor</td>\n",
       "      <td>Medium Pressure</td>\n",
       "      <td>Unknown/Other</td>\n",
       "      <td>...</td>\n",
       "      <td>Hazardous</td>\n",
       "      <td>Code 1</td>\n",
       "      <td>Pipe</td>\n",
       "      <td>Plastic - Polyethylene</td>\n",
       "      <td>1/2\" IPS</td>\n",
       "      <td>4</td>\n",
       "      <td>2017</td>\n",
       "      <td>NaN</td>\n",
       "      <td>Contractor</td>\n",
       "      <td>Altered Service - Immediate</td>\n",
       "    </tr>\n",
       "    <tr>\n",
       "      <th>6332</th>\n",
       "      <td>BG</td>\n",
       "      <td>NaN</td>\n",
       "      <td>Steel</td>\n",
       "      <td>Coated (Condition Unknown)</td>\n",
       "      <td>No CP</td>\n",
       "      <td>Excavation Damage</td>\n",
       "      <td>Excavation Damage by Third Party</td>\n",
       "      <td>Contractor</td>\n",
       "      <td>Medium Pressure</td>\n",
       "      <td>Backhoe/Trackhoe</td>\n",
       "      <td>...</td>\n",
       "      <td>Hazardous</td>\n",
       "      <td>Code 1</td>\n",
       "      <td>Pipe</td>\n",
       "      <td>Steel - Coated w/o CP</td>\n",
       "      <td>3/4\"</td>\n",
       "      <td>3</td>\n",
       "      <td>2013</td>\n",
       "      <td>NaN</td>\n",
       "      <td>Contractor</td>\n",
       "      <td>Replace service</td>\n",
       "    </tr>\n",
       "    <tr>\n",
       "      <th>8755</th>\n",
       "      <td>BG</td>\n",
       "      <td>---</td>\n",
       "      <td>Steel</td>\n",
       "      <td>Coated (Condition Unknown)</td>\n",
       "      <td>CP (Unknown Source)</td>\n",
       "      <td>Excavation Damage</td>\n",
       "      <td>Excavation Damage by Third Party</td>\n",
       "      <td>Contractor</td>\n",
       "      <td>Medium Pressure</td>\n",
       "      <td>Backhoe/Trackhoe</td>\n",
       "      <td>...</td>\n",
       "      <td>Hazardous</td>\n",
       "      <td>Code 1</td>\n",
       "      <td>Other</td>\n",
       "      <td>Steel - Coated w/CP</td>\n",
       "      <td>8\"</td>\n",
       "      <td>1</td>\n",
       "      <td>2016</td>\n",
       "      <td>NaN</td>\n",
       "      <td>Contractor</td>\n",
       "      <td>Clamped</td>\n",
       "    </tr>\n",
       "  </tbody>\n",
       "</table>\n",
       "<p>5 rows × 31 columns</p>\n",
       "</div>"
      ],
      "text/plain": [
       "      Ag Bg Condition DIMP Material for Analysis                   DIMP Wrap  \\\n",
       "23842    BG       ---                         PE               Not Populated   \n",
       "26978    BG       NaN                         PE               Not Populated   \n",
       "26056    BG       ---                         PE               Not Populated   \n",
       "6332     BG       NaN                      Steel  Coated (Condition Unknown)   \n",
       "8755     BG       ---                      Steel  Coated (Condition Unknown)   \n",
       "\n",
       "                    Dimpcp         DIMPCause1  \\\n",
       "23842        Not Populated  Excavation Damage   \n",
       "26978        Not Populated  Excavation Damage   \n",
       "26056        Not Populated  Excavation Damage   \n",
       "6332                 No CP  Excavation Damage   \n",
       "8755   CP (Unknown Source)  Excavation Damage   \n",
       "\n",
       "                             DIMPCause2  DIMPCause3    DIMP Pressure  \\\n",
       "23842  Excavation Damage by Third Party  Contractor  Medium Pressure   \n",
       "26978  Excavation Damage by Third Party     Unknown  Medium Pressure   \n",
       "26056  Excavation Damage by Third Party  Contractor  Medium Pressure   \n",
       "6332   Excavation Damage by Third Party  Contractor  Medium Pressure   \n",
       "8755   Excavation Damage by Third Party  Contractor  Medium Pressure   \n",
       "\n",
       "      Damaging Equipment  ...  Leak Code for DOT  Leak Code for Reporting  \\\n",
       "23842         Hand Tools  ...          Hazardous                   Code 1   \n",
       "26978                NaN  ...          Hazardous                   Code 1   \n",
       "26056      Unknown/Other  ...          Hazardous                   Code 1   \n",
       "6332    Backhoe/Trackhoe  ...          Hazardous                   Code 1   \n",
       "8755    Backhoe/Trackhoe  ...          Hazardous                   Code 1   \n",
       "\n",
       "      Leak In                Material Pipe Size Region Reporting Year  \\\n",
       "23842    Pipe  Plastic - Polyethylene  1/2\" CTS      1           2015   \n",
       "26978    Pipe  Plastic - Polyethylene  1/2\" CTS      4           2018   \n",
       "26056    Pipe  Plastic - Polyethylene  1/2\" IPS      4           2017   \n",
       "6332     Pipe   Steel - Coated w/o CP      3/4\"      3           2013   \n",
       "8755    Other     Steel - Coated w/CP        8\"      1           2016   \n",
       "\n",
       "      Riser Type Type of Excavator                  Type Repair  \n",
       "23842        NaN        Contractor  Altered Service - Immediate  \n",
       "26978         NP               NaN  Altered Service - Immediate  \n",
       "26056        NaN        Contractor  Altered Service - Immediate  \n",
       "6332         NaN        Contractor              Replace service  \n",
       "8755         NaN        Contractor                      Clamped  \n",
       "\n",
       "[5 rows x 31 columns]"
      ]
     },
     "execution_count": 4,
     "metadata": {},
     "output_type": "execute_result"
    }
   ],
   "source": [
    "%%time\n",
    "# Import data with three unused columns dropped; split into train and test data; preview\n",
    "df = pd.read_csv(\"ED-2_HW4.csv\")\n",
    "df, df_test = train_test_split(df, test_size=0.25, random_state = 1)\n",
    "df.head()"
   ]
  },
  {
   "cell_type": "code",
   "execution_count": 5,
   "id": "proof-wiring",
   "metadata": {},
   "outputs": [
    {
     "name": "stdout",
     "output_type": "stream",
     "text": [
      "<class 'pandas.core.frame.DataFrame'>\n",
      "Int64Index: 20970 entries, 23842 to 235\n",
      "Data columns (total 31 columns):\n",
      " #   Column                      Non-Null Count  Dtype \n",
      "---  ------                      --------------  ----- \n",
      " 0   Ag Bg                       20970 non-null  object\n",
      " 1   Condition                   10276 non-null  object\n",
      " 2   DIMP Material for Analysis  20970 non-null  object\n",
      " 3   DIMP Wrap                   20970 non-null  object\n",
      " 4   Dimpcp                      20970 non-null  object\n",
      " 5   DIMPCause1                  20970 non-null  object\n",
      " 6   DIMPCause2                  20970 non-null  object\n",
      " 7   DIMPCause3                  20954 non-null  object\n",
      " 8   DIMP Pressure               20970 non-null  object\n",
      " 9   Damaging Equipment          13315 non-null  object\n",
      " 10  District                    20970 non-null  int64 \n",
      " 11  EIR_NA                      20970 non-null  int64 \n",
      " 12  Facility1                   20970 non-null  object\n",
      " 13  Facility2                   20970 non-null  object\n",
      " 14  Facility3                   20970 non-null  object\n",
      " 15  Facility4                   20958 non-null  object\n",
      " 16  Fitting Type                3536 non-null   object\n",
      " 17  GO-112F Group               5413 non-null   object\n",
      " 18  Investigation Reason        5410 non-null   object\n",
      " 19  Joint Type                  3375 non-null   object\n",
      " 20  Key Observations            17056 non-null  object\n",
      " 21  Leak Code for DOT           20970 non-null  object\n",
      " 22  Leak Code for Reporting     20970 non-null  object\n",
      " 23  Leak In                     18085 non-null  object\n",
      " 24  Material                    20970 non-null  object\n",
      " 25  Pipe Size                   20722 non-null  object\n",
      " 26  Region                      20970 non-null  int64 \n",
      " 27  Reporting Year              20970 non-null  int64 \n",
      " 28  Riser Type                  4242 non-null   object\n",
      " 29  Type of Excavator           15146 non-null  object\n",
      " 30  Type Repair                 20892 non-null  object\n",
      "dtypes: int64(4), object(27)\n",
      "memory usage: 5.1+ MB\n",
      "Wall time: 27.9 ms\n"
     ]
    }
   ],
   "source": [
    "%%time\n",
    "# Notice all but few are categorial variables\n",
    "df.info()"
   ]
  },
  {
   "cell_type": "code",
   "execution_count": 6,
   "id": "casual-crazy",
   "metadata": {},
   "outputs": [
    {
     "name": "stdout",
     "output_type": "stream",
     "text": [
      "Wall time: 14 ms\n"
     ]
    },
    {
     "data": {
      "text/plain": [
       "Index(['Ag_Bg', 'Condition', 'DIMP_Material_for_Analysis', 'DIMP_Wrap',\n",
       "       'Dimpcp', 'DIMPCause1', 'DIMPCause2', 'DIMPCause3', 'DIMP_Pressure',\n",
       "       'Damaging_Equipment', 'District', 'EIR_NA', 'Facility1', 'Facility2',\n",
       "       'Facility3', 'Facility4', 'Fitting_Type', 'GO-112F_Group',\n",
       "       'Investigation_Reason', 'Joint_Type', 'Key_Observations',\n",
       "       'Leak_Code_for_DOT', 'LeakCode', 'Leak_In', 'Material', 'Pipe_Size',\n",
       "       'Region', 'Reporting_Year', 'Riser_Type', 'ToE', 'Type_Repair'],\n",
       "      dtype='object')"
      ]
     },
     "execution_count": 6,
     "metadata": {},
     "output_type": "execute_result"
    }
   ],
   "source": [
    "%%time\n",
    "# Rename column for usability; preview\n",
    "df = df.rename(columns = {\"Leak Code for Reporting\" : \"LeakCode\"})\n",
    "df = df.rename(columns = {\"Type of Excavator\" : \"ToE\"})\n",
    "df.columns = [c.replace(' ', '_') for c in df.columns]\n",
    "df.columns"
   ]
  },
  {
   "cell_type": "code",
   "execution_count": 7,
   "id": "dangerous-slave",
   "metadata": {},
   "outputs": [
    {
     "data": {
      "text/plain": [
       "array([0, 1], dtype=int64)"
      ]
     },
     "execution_count": 7,
     "metadata": {},
     "output_type": "execute_result"
    }
   ],
   "source": [
    "df = pd.DataFrame(df) \n",
    "df.EIR_NA.unique() "
   ]
  },
  {
   "cell_type": "code",
   "execution_count": 8,
   "id": "australian-metro",
   "metadata": {},
   "outputs": [
    {
     "data": {
      "text/plain": [
       "Contractor                7968\n",
       "Contractor - 3rd Party    3448\n",
       "Occupant                  1453\n",
       "Unknown                    538\n",
       "Homeowner                  295\n",
       "Name: ToE, dtype: int64"
      ]
     },
     "execution_count": 8,
     "metadata": {},
     "output_type": "execute_result"
    }
   ],
   "source": [
    "df['ToE'].value_counts().head()"
   ]
  },
  {
   "cell_type": "code",
   "execution_count": 9,
   "id": "hybrid-adventure",
   "metadata": {},
   "outputs": [
    {
     "data": {
      "text/plain": [
       "56    878\n",
       "38    859\n",
       "50    842\n",
       "24    818\n",
       "3     802\n",
       "Name: District, dtype: int64"
      ]
     },
     "execution_count": 9,
     "metadata": {},
     "output_type": "execute_result"
    }
   ],
   "source": [
    "df['District'].value_counts().head()"
   ]
  },
  {
   "cell_type": "code",
   "execution_count": 10,
   "id": "silent-arcade",
   "metadata": {},
   "outputs": [
    {
     "data": {
      "text/plain": [
       "Hand Tools                                                                                                     5044\n",
       "Backhoe/Trackhoe                                                                                               3635\n",
       "Hand Tools including picks, shovels, bars, hand post diggers, similar equipment (no powered equipment) (HT)    1117\n",
       "Backhoe/Trackhoe including backhoes, trackhoes, Gradalls, similar equipment (BT)                                977\n",
       "Unknown/Other                                                                                                   541\n",
       "Name: Damaging_Equipment, dtype: int64"
      ]
     },
     "execution_count": 10,
     "metadata": {},
     "output_type": "execute_result"
    }
   ],
   "source": [
    "df['Damaging_Equipment'].value_counts().head()"
   ]
  },
  {
   "cell_type": "code",
   "execution_count": 11,
   "id": "progressive-climate",
   "metadata": {},
   "outputs": [
    {
     "data": {
      "text/plain": [
       "Pipe                    16660\n",
       "Anodeless Riser           332\n",
       "Riser (Above Ground)      290\n",
       "Other                     173\n",
       "Fitting                   123\n",
       "Name: Leak_In, dtype: int64"
      ]
     },
     "execution_count": 11,
     "metadata": {},
     "output_type": "execute_result"
    }
   ],
   "source": [
    "df['Leak_In'].value_counts().head()"
   ]
  },
  {
   "cell_type": "code",
   "execution_count": 12,
   "id": "separate-private",
   "metadata": {},
   "outputs": [
    {
     "name": "stdout",
     "output_type": "stream",
     "text": [
      "Wall time: 0 ns\n"
     ]
    }
   ],
   "source": [
    "%%time\n",
    "# Create outcome variable to identify hazardous vs. non-hazardous leaks\n",
    "def is_hazardous_leak(LeakCode):\n",
    "    \"\"\"Fcn to return if leak is hazardous.\n",
    "       \n",
    "       Arguments:\n",
    "           - 'Leak Code for Reporting':   describes severity of leak\n",
    "       \n",
    "       Returns:\n",
    "           - 1 if hazardous, 0 if non-hazardous\n",
    "    \"\"\"\n",
    "    count = 0\n",
    "    if (LeakCode == 'AG Hazardous') | (LeakCode == 'Code 1'):\n",
    "        # If leak code is AG Haz or Code 1:\n",
    "        count += 1\n",
    "    return count"
   ]
  },
  {
   "cell_type": "code",
   "execution_count": 13,
   "id": "banner-receiver",
   "metadata": {},
   "outputs": [
    {
     "name": "stdout",
     "output_type": "stream",
     "text": [
      "Wall time: 0 ns\n"
     ]
    }
   ],
   "source": [
    "%%time\n",
    "# Create binary predictor using district to use in improved logistic regression model\n",
    "def is_haz_district(District):\n",
    "    \"\"\"Fcn to return 1 if District is within the top five districts known to have excavation damage\n",
    "    \n",
    "       Returns:\n",
    "           - 1 if in top 5 districts, 0 if not\n",
    "    \"\"\"\n",
    "    count = 0\n",
    "    if (District == '3') | (District == '50') | (District == '38') | (District == '56') | (District == '24'):\n",
    "        count += 1\n",
    "    return count"
   ]
  },
  {
   "cell_type": "code",
   "execution_count": 14,
   "id": "opening-pride",
   "metadata": {},
   "outputs": [
    {
     "name": "stdout",
     "output_type": "stream",
     "text": [
      "Wall time: 0 ns\n"
     ]
    }
   ],
   "source": [
    "%%time\n",
    "# Create binary predictor using type of excavator to use in improved logistic regression model\n",
    "def is_haz_exc(ToE):\n",
    "    \"\"\"Fcn to return 1 if excavator is a contractor\n",
    "    \n",
    "       Returns:\n",
    "           - 1 if contractor, 0 if not\n",
    "    \"\"\"\n",
    "    count = 0\n",
    "    if (ToE == 'Contractor') | (ToE == 'Contractor - 3rd Party'):\n",
    "        count += 1\n",
    "    return count"
   ]
  },
  {
   "cell_type": "code",
   "execution_count": 15,
   "id": "north-sampling",
   "metadata": {},
   "outputs": [
    {
     "name": "stdout",
     "output_type": "stream",
     "text": [
      "Wall time: 0 ns\n"
     ]
    }
   ],
   "source": [
    "%%time\n",
    "# Create binary predictor using damaging equipment to use in improved logistic regression model\n",
    "def is_haz_de(Damaging_Equipment):\n",
    "    \"\"\"Fcn to return 1 if damaging equipment is a handtool \n",
    "    \n",
    "       Returns:\n",
    "           - 1 if handtool, 0 if not\n",
    "    \"\"\"\n",
    "    count = 0\n",
    "    if (Damaging_Equipment == 'Hand Tools'):\n",
    "        count += 1\n",
    "    return count"
   ]
  },
  {
   "cell_type": "code",
   "execution_count": 16,
   "id": "racial-vertex",
   "metadata": {},
   "outputs": [
    {
     "name": "stdout",
     "output_type": "stream",
     "text": [
      "Wall time: 0 ns\n"
     ]
    }
   ],
   "source": [
    "%%time\n",
    "# Create binary predictor using the part of the asset that leaked to use in improved logistic regression model\n",
    "def is_haz_li(Leak_In):\n",
    "    \"\"\"Fcn to return 1 if leak occurred on a piece of pipe\n",
    "    \n",
    "       Returns:\n",
    "           - 1 if pipe, 0 if not\n",
    "    \"\"\"\n",
    "    count = 0\n",
    "    if (Leak_In == 'Pipe'):\n",
    "        count += 1\n",
    "    return count"
   ]
  },
  {
   "cell_type": "code",
   "execution_count": 17,
   "id": "funky-cattle",
   "metadata": {},
   "outputs": [
    {
     "name": "stdout",
     "output_type": "stream",
     "text": [
      "Wall time: 1.04 s\n"
     ]
    },
    {
     "data": {
      "text/html": [
       "<div>\n",
       "<style scoped>\n",
       "    .dataframe tbody tr th:only-of-type {\n",
       "        vertical-align: middle;\n",
       "    }\n",
       "\n",
       "    .dataframe tbody tr th {\n",
       "        vertical-align: top;\n",
       "    }\n",
       "\n",
       "    .dataframe thead th {\n",
       "        text-align: right;\n",
       "    }\n",
       "</style>\n",
       "<table border=\"1\" class=\"dataframe\">\n",
       "  <thead>\n",
       "    <tr style=\"text-align: right;\">\n",
       "      <th></th>\n",
       "      <th>Ag_Bg</th>\n",
       "      <th>Condition</th>\n",
       "      <th>DIMP_Material_for_Analysis</th>\n",
       "      <th>DIMP_Wrap</th>\n",
       "      <th>Dimpcp</th>\n",
       "      <th>DIMPCause1</th>\n",
       "      <th>DIMPCause2</th>\n",
       "      <th>DIMPCause3</th>\n",
       "      <th>DIMP_Pressure</th>\n",
       "      <th>Damaging_Equipment</th>\n",
       "      <th>...</th>\n",
       "      <th>Region</th>\n",
       "      <th>Reporting_Year</th>\n",
       "      <th>Riser_Type</th>\n",
       "      <th>ToE</th>\n",
       "      <th>Type_Repair</th>\n",
       "      <th>Leak_Haz</th>\n",
       "      <th>District_Haz</th>\n",
       "      <th>Exc_Haz</th>\n",
       "      <th>De_Haz</th>\n",
       "      <th>Li_Haz</th>\n",
       "    </tr>\n",
       "  </thead>\n",
       "  <tbody>\n",
       "    <tr>\n",
       "      <th>23842</th>\n",
       "      <td>BG</td>\n",
       "      <td>---</td>\n",
       "      <td>PE</td>\n",
       "      <td>Not Populated</td>\n",
       "      <td>Not Populated</td>\n",
       "      <td>Excavation Damage</td>\n",
       "      <td>Excavation Damage by Third Party</td>\n",
       "      <td>Contractor</td>\n",
       "      <td>Medium Pressure</td>\n",
       "      <td>Hand Tools</td>\n",
       "      <td>...</td>\n",
       "      <td>1</td>\n",
       "      <td>2015</td>\n",
       "      <td>NaN</td>\n",
       "      <td>Contractor</td>\n",
       "      <td>Altered Service - Immediate</td>\n",
       "      <td>1</td>\n",
       "      <td>0</td>\n",
       "      <td>1</td>\n",
       "      <td>1</td>\n",
       "      <td>1</td>\n",
       "    </tr>\n",
       "    <tr>\n",
       "      <th>26978</th>\n",
       "      <td>BG</td>\n",
       "      <td>NaN</td>\n",
       "      <td>PE</td>\n",
       "      <td>Not Populated</td>\n",
       "      <td>Not Populated</td>\n",
       "      <td>Excavation Damage</td>\n",
       "      <td>Excavation Damage by Third Party</td>\n",
       "      <td>Unknown</td>\n",
       "      <td>Medium Pressure</td>\n",
       "      <td>NaN</td>\n",
       "      <td>...</td>\n",
       "      <td>4</td>\n",
       "      <td>2018</td>\n",
       "      <td>NP</td>\n",
       "      <td>NaN</td>\n",
       "      <td>Altered Service - Immediate</td>\n",
       "      <td>1</td>\n",
       "      <td>0</td>\n",
       "      <td>0</td>\n",
       "      <td>0</td>\n",
       "      <td>1</td>\n",
       "    </tr>\n",
       "    <tr>\n",
       "      <th>26056</th>\n",
       "      <td>BG</td>\n",
       "      <td>---</td>\n",
       "      <td>PE</td>\n",
       "      <td>Not Populated</td>\n",
       "      <td>Not Populated</td>\n",
       "      <td>Excavation Damage</td>\n",
       "      <td>Excavation Damage by Third Party</td>\n",
       "      <td>Contractor</td>\n",
       "      <td>Medium Pressure</td>\n",
       "      <td>Unknown/Other</td>\n",
       "      <td>...</td>\n",
       "      <td>4</td>\n",
       "      <td>2017</td>\n",
       "      <td>NaN</td>\n",
       "      <td>Contractor</td>\n",
       "      <td>Altered Service - Immediate</td>\n",
       "      <td>1</td>\n",
       "      <td>0</td>\n",
       "      <td>1</td>\n",
       "      <td>0</td>\n",
       "      <td>1</td>\n",
       "    </tr>\n",
       "    <tr>\n",
       "      <th>6332</th>\n",
       "      <td>BG</td>\n",
       "      <td>NaN</td>\n",
       "      <td>Steel</td>\n",
       "      <td>Coated (Condition Unknown)</td>\n",
       "      <td>No CP</td>\n",
       "      <td>Excavation Damage</td>\n",
       "      <td>Excavation Damage by Third Party</td>\n",
       "      <td>Contractor</td>\n",
       "      <td>Medium Pressure</td>\n",
       "      <td>Backhoe/Trackhoe</td>\n",
       "      <td>...</td>\n",
       "      <td>3</td>\n",
       "      <td>2013</td>\n",
       "      <td>NaN</td>\n",
       "      <td>Contractor</td>\n",
       "      <td>Replace service</td>\n",
       "      <td>1</td>\n",
       "      <td>0</td>\n",
       "      <td>1</td>\n",
       "      <td>0</td>\n",
       "      <td>1</td>\n",
       "    </tr>\n",
       "    <tr>\n",
       "      <th>8755</th>\n",
       "      <td>BG</td>\n",
       "      <td>---</td>\n",
       "      <td>Steel</td>\n",
       "      <td>Coated (Condition Unknown)</td>\n",
       "      <td>CP (Unknown Source)</td>\n",
       "      <td>Excavation Damage</td>\n",
       "      <td>Excavation Damage by Third Party</td>\n",
       "      <td>Contractor</td>\n",
       "      <td>Medium Pressure</td>\n",
       "      <td>Backhoe/Trackhoe</td>\n",
       "      <td>...</td>\n",
       "      <td>1</td>\n",
       "      <td>2016</td>\n",
       "      <td>NaN</td>\n",
       "      <td>Contractor</td>\n",
       "      <td>Clamped</td>\n",
       "      <td>1</td>\n",
       "      <td>0</td>\n",
       "      <td>1</td>\n",
       "      <td>0</td>\n",
       "      <td>0</td>\n",
       "    </tr>\n",
       "  </tbody>\n",
       "</table>\n",
       "<p>5 rows × 36 columns</p>\n",
       "</div>"
      ],
      "text/plain": [
       "      Ag_Bg Condition DIMP_Material_for_Analysis                   DIMP_Wrap  \\\n",
       "23842    BG       ---                         PE               Not Populated   \n",
       "26978    BG       NaN                         PE               Not Populated   \n",
       "26056    BG       ---                         PE               Not Populated   \n",
       "6332     BG       NaN                      Steel  Coated (Condition Unknown)   \n",
       "8755     BG       ---                      Steel  Coated (Condition Unknown)   \n",
       "\n",
       "                    Dimpcp         DIMPCause1  \\\n",
       "23842        Not Populated  Excavation Damage   \n",
       "26978        Not Populated  Excavation Damage   \n",
       "26056        Not Populated  Excavation Damage   \n",
       "6332                 No CP  Excavation Damage   \n",
       "8755   CP (Unknown Source)  Excavation Damage   \n",
       "\n",
       "                             DIMPCause2  DIMPCause3    DIMP_Pressure  \\\n",
       "23842  Excavation Damage by Third Party  Contractor  Medium Pressure   \n",
       "26978  Excavation Damage by Third Party     Unknown  Medium Pressure   \n",
       "26056  Excavation Damage by Third Party  Contractor  Medium Pressure   \n",
       "6332   Excavation Damage by Third Party  Contractor  Medium Pressure   \n",
       "8755   Excavation Damage by Third Party  Contractor  Medium Pressure   \n",
       "\n",
       "      Damaging_Equipment  ...  Region  Reporting_Year Riser_Type         ToE  \\\n",
       "23842         Hand Tools  ...       1            2015        NaN  Contractor   \n",
       "26978                NaN  ...       4            2018         NP         NaN   \n",
       "26056      Unknown/Other  ...       4            2017        NaN  Contractor   \n",
       "6332    Backhoe/Trackhoe  ...       3            2013        NaN  Contractor   \n",
       "8755    Backhoe/Trackhoe  ...       1            2016        NaN  Contractor   \n",
       "\n",
       "                       Type_Repair Leak_Haz District_Haz Exc_Haz De_Haz Li_Haz  \n",
       "23842  Altered Service - Immediate        1            0       1      1      1  \n",
       "26978  Altered Service - Immediate        1            0       0      0      1  \n",
       "26056  Altered Service - Immediate        1            0       1      0      1  \n",
       "6332               Replace service        1            0       1      0      1  \n",
       "8755                       Clamped        1            0       1      0      0  \n",
       "\n",
       "[5 rows x 36 columns]"
      ]
     },
     "execution_count": 17,
     "metadata": {},
     "output_type": "execute_result"
    }
   ],
   "source": [
    "%%time\n",
    "# Add to data; preview\n",
    "df['Leak_Haz'] = df[['LeakCode']].apply(lambda row: is_hazardous_leak(row[0]), axis = 1)\n",
    "df['District_Haz'] = df[['District']].apply(lambda row: is_haz_district(row[0]), axis = 1)\n",
    "df['Exc_Haz'] = df[['ToE']].apply(lambda row: is_haz_exc(row[0]), axis = 1)\n",
    "df['De_Haz'] = df[['Damaging_Equipment']].apply(lambda row: is_haz_de(row[0]), axis = 1)\n",
    "df['Li_Haz'] = df[['Leak_In']].apply(lambda row: is_haz_li(row[0]), axis = 1)\n",
    "df.head()"
   ]
  },
  {
   "cell_type": "code",
   "execution_count": 18,
   "id": "verbal-jackson",
   "metadata": {},
   "outputs": [
    {
     "data": {
      "text/html": [
       "<div>\n",
       "<style scoped>\n",
       "    .dataframe tbody tr th:only-of-type {\n",
       "        vertical-align: middle;\n",
       "    }\n",
       "\n",
       "    .dataframe tbody tr th {\n",
       "        vertical-align: top;\n",
       "    }\n",
       "\n",
       "    .dataframe thead th {\n",
       "        text-align: right;\n",
       "    }\n",
       "</style>\n",
       "<table border=\"1\" class=\"dataframe\">\n",
       "  <thead>\n",
       "    <tr style=\"text-align: right;\">\n",
       "      <th></th>\n",
       "      <th>Ag_Bg</th>\n",
       "      <th>Condition</th>\n",
       "      <th>DIMP_Material_for_Analysis</th>\n",
       "      <th>DIMP_Wrap</th>\n",
       "      <th>Dimpcp</th>\n",
       "      <th>DIMPCause1</th>\n",
       "      <th>DIMPCause2</th>\n",
       "      <th>DIMPCause3</th>\n",
       "      <th>DIMP_Pressure</th>\n",
       "      <th>Damaging_Equipment</th>\n",
       "      <th>...</th>\n",
       "      <th>Region</th>\n",
       "      <th>Reporting_Year</th>\n",
       "      <th>Riser_Type</th>\n",
       "      <th>ToE</th>\n",
       "      <th>Type_Repair</th>\n",
       "      <th>Leak_Haz</th>\n",
       "      <th>District_Haz</th>\n",
       "      <th>Exc_Haz</th>\n",
       "      <th>De_Haz</th>\n",
       "      <th>Li_Haz</th>\n",
       "    </tr>\n",
       "  </thead>\n",
       "  <tbody>\n",
       "    <tr>\n",
       "      <th>10955</th>\n",
       "      <td>BG</td>\n",
       "      <td>---</td>\n",
       "      <td>PE</td>\n",
       "      <td>Not Populated</td>\n",
       "      <td>Not Populated</td>\n",
       "      <td>Excavation Damage</td>\n",
       "      <td>Excavation Damage by Third Party</td>\n",
       "      <td>Unknown</td>\n",
       "      <td>Medium Pressure</td>\n",
       "      <td>NaN</td>\n",
       "      <td>...</td>\n",
       "      <td>4</td>\n",
       "      <td>2019</td>\n",
       "      <td>NaN</td>\n",
       "      <td>Municipality</td>\n",
       "      <td>Altered Service - Immediate</td>\n",
       "      <td>1</td>\n",
       "      <td>0</td>\n",
       "      <td>0</td>\n",
       "      <td>0</td>\n",
       "      <td>1</td>\n",
       "    </tr>\n",
       "    <tr>\n",
       "      <th>17289</th>\n",
       "      <td>BG</td>\n",
       "      <td>---</td>\n",
       "      <td>PE</td>\n",
       "      <td>Not Populated</td>\n",
       "      <td>Not Populated</td>\n",
       "      <td>Excavation Damage</td>\n",
       "      <td>Excavation Damage by Third Party</td>\n",
       "      <td>Contractor</td>\n",
       "      <td>Medium Pressure</td>\n",
       "      <td>Data Not Collected</td>\n",
       "      <td>...</td>\n",
       "      <td>3</td>\n",
       "      <td>2017</td>\n",
       "      <td>NaN</td>\n",
       "      <td>Contractor</td>\n",
       "      <td>Other</td>\n",
       "      <td>1</td>\n",
       "      <td>0</td>\n",
       "      <td>1</td>\n",
       "      <td>0</td>\n",
       "      <td>1</td>\n",
       "    </tr>\n",
       "    <tr>\n",
       "      <th>5192</th>\n",
       "      <td>BG</td>\n",
       "      <td>NaN</td>\n",
       "      <td>PE</td>\n",
       "      <td>Not Populated</td>\n",
       "      <td>Not Populated</td>\n",
       "      <td>Excavation Damage</td>\n",
       "      <td>Excavation Damage by Third Party</td>\n",
       "      <td>Homeowner</td>\n",
       "      <td>Medium Pressure</td>\n",
       "      <td>Hand Tools</td>\n",
       "      <td>...</td>\n",
       "      <td>4</td>\n",
       "      <td>2013</td>\n",
       "      <td>NaN</td>\n",
       "      <td>Homeowner</td>\n",
       "      <td>Altered</td>\n",
       "      <td>1</td>\n",
       "      <td>0</td>\n",
       "      <td>0</td>\n",
       "      <td>1</td>\n",
       "      <td>1</td>\n",
       "    </tr>\n",
       "    <tr>\n",
       "      <th>12172</th>\n",
       "      <td>BG</td>\n",
       "      <td>NaN</td>\n",
       "      <td>Steel</td>\n",
       "      <td>Coated (Condition Unknown)</td>\n",
       "      <td>CP (Unknown Source)</td>\n",
       "      <td>Excavation Damage</td>\n",
       "      <td>Excavation Damage by Third Party</td>\n",
       "      <td>Contractor - 3rd Party</td>\n",
       "      <td>Medium Pressure</td>\n",
       "      <td>Miscellaneous/Other including items not specif...</td>\n",
       "      <td>...</td>\n",
       "      <td>1</td>\n",
       "      <td>2018</td>\n",
       "      <td>NP</td>\n",
       "      <td>Contractor - 3rd Party</td>\n",
       "      <td>Altered Service - Immediate</td>\n",
       "      <td>1</td>\n",
       "      <td>0</td>\n",
       "      <td>1</td>\n",
       "      <td>0</td>\n",
       "      <td>1</td>\n",
       "    </tr>\n",
       "    <tr>\n",
       "      <th>235</th>\n",
       "      <td>BG</td>\n",
       "      <td>---</td>\n",
       "      <td>PE</td>\n",
       "      <td>Not Populated</td>\n",
       "      <td>Not Populated</td>\n",
       "      <td>Excavation Damage</td>\n",
       "      <td>Excavation Damage by Third Party</td>\n",
       "      <td>Contractor</td>\n",
       "      <td>Medium Pressure</td>\n",
       "      <td>Backhoe/Trackhoe</td>\n",
       "      <td>...</td>\n",
       "      <td>1</td>\n",
       "      <td>2015</td>\n",
       "      <td>NaN</td>\n",
       "      <td>Contractor</td>\n",
       "      <td>Altered Service - Immediate</td>\n",
       "      <td>1</td>\n",
       "      <td>0</td>\n",
       "      <td>1</td>\n",
       "      <td>0</td>\n",
       "      <td>1</td>\n",
       "    </tr>\n",
       "  </tbody>\n",
       "</table>\n",
       "<p>5 rows × 36 columns</p>\n",
       "</div>"
      ],
      "text/plain": [
       "      Ag_Bg Condition DIMP_Material_for_Analysis                   DIMP_Wrap  \\\n",
       "10955    BG       ---                         PE               Not Populated   \n",
       "17289    BG       ---                         PE               Not Populated   \n",
       "5192     BG       NaN                         PE               Not Populated   \n",
       "12172    BG       NaN                      Steel  Coated (Condition Unknown)   \n",
       "235      BG       ---                         PE               Not Populated   \n",
       "\n",
       "                    Dimpcp         DIMPCause1  \\\n",
       "10955        Not Populated  Excavation Damage   \n",
       "17289        Not Populated  Excavation Damage   \n",
       "5192         Not Populated  Excavation Damage   \n",
       "12172  CP (Unknown Source)  Excavation Damage   \n",
       "235          Not Populated  Excavation Damage   \n",
       "\n",
       "                             DIMPCause2              DIMPCause3  \\\n",
       "10955  Excavation Damage by Third Party                 Unknown   \n",
       "17289  Excavation Damage by Third Party              Contractor   \n",
       "5192   Excavation Damage by Third Party               Homeowner   \n",
       "12172  Excavation Damage by Third Party  Contractor - 3rd Party   \n",
       "235    Excavation Damage by Third Party              Contractor   \n",
       "\n",
       "         DIMP_Pressure                                 Damaging_Equipment  \\\n",
       "10955  Medium Pressure                                                NaN   \n",
       "17289  Medium Pressure                                 Data Not Collected   \n",
       "5192   Medium Pressure                                         Hand Tools   \n",
       "12172  Medium Pressure  Miscellaneous/Other including items not specif...   \n",
       "235    Medium Pressure                                   Backhoe/Trackhoe   \n",
       "\n",
       "       ...  Region  Reporting_Year Riser_Type                     ToE  \\\n",
       "10955  ...       4            2019        NaN            Municipality   \n",
       "17289  ...       3            2017        NaN              Contractor   \n",
       "5192   ...       4            2013        NaN               Homeowner   \n",
       "12172  ...       1            2018         NP  Contractor - 3rd Party   \n",
       "235    ...       1            2015        NaN              Contractor   \n",
       "\n",
       "                       Type_Repair Leak_Haz District_Haz Exc_Haz De_Haz Li_Haz  \n",
       "10955  Altered Service - Immediate        1            0       0      0      1  \n",
       "17289                        Other        1            0       1      0      1  \n",
       "5192                       Altered        1            0       0      1      1  \n",
       "12172  Altered Service - Immediate        1            0       1      0      1  \n",
       "235    Altered Service - Immediate        1            0       1      0      1  \n",
       "\n",
       "[5 rows x 36 columns]"
      ]
     },
     "execution_count": 18,
     "metadata": {},
     "output_type": "execute_result"
    }
   ],
   "source": [
    "df.tail()"
   ]
  },
  {
   "cell_type": "code",
   "execution_count": 19,
   "id": "blessed-viewer",
   "metadata": {},
   "outputs": [
    {
     "name": "stdout",
     "output_type": "stream",
     "text": [
      "Wall time: 1.99 ms\n"
     ]
    },
    {
     "data": {
      "text/plain": [
       "1    20671\n",
       "0      299\n",
       "Name: Leak_Haz, dtype: int64"
      ]
     },
     "execution_count": 19,
     "metadata": {},
     "output_type": "execute_result"
    }
   ],
   "source": [
    "%%time\n",
    "# Majority of leak with excavation damage results in a hazardous leak\n",
    "df['Leak_Haz'].value_counts()"
   ]
  },
  {
   "cell_type": "code",
   "execution_count": 20,
   "id": "appreciated-perception",
   "metadata": {},
   "outputs": [
    {
     "name": "stdout",
     "output_type": "stream",
     "text": [
      "Wall time: 113 ms\n"
     ]
    },
    {
     "data": {
      "text/html": [
       "<div>\n",
       "<style scoped>\n",
       "    .dataframe tbody tr th:only-of-type {\n",
       "        vertical-align: middle;\n",
       "    }\n",
       "\n",
       "    .dataframe tbody tr th {\n",
       "        vertical-align: top;\n",
       "    }\n",
       "\n",
       "    .dataframe thead th {\n",
       "        text-align: right;\n",
       "    }\n",
       "</style>\n",
       "<table border=\"1\" class=\"dataframe\">\n",
       "  <thead>\n",
       "    <tr style=\"text-align: right;\">\n",
       "      <th></th>\n",
       "      <th>Ag_Bg</th>\n",
       "      <th>Condition</th>\n",
       "      <th>DIMP_Material_for_Analysis</th>\n",
       "      <th>DIMP_Wrap</th>\n",
       "      <th>Dimpcp</th>\n",
       "      <th>DIMPCause1</th>\n",
       "      <th>DIMPCause2</th>\n",
       "      <th>DIMPCause3</th>\n",
       "      <th>DIMP_Pressure</th>\n",
       "      <th>Damaging_Equipment</th>\n",
       "      <th>...</th>\n",
       "      <th>Region</th>\n",
       "      <th>Reporting_Year</th>\n",
       "      <th>Riser_Type</th>\n",
       "      <th>ToE</th>\n",
       "      <th>Type_Repair</th>\n",
       "      <th>Leak_Haz</th>\n",
       "      <th>District_Haz</th>\n",
       "      <th>Exc_Haz</th>\n",
       "      <th>De_Haz</th>\n",
       "      <th>Li_Haz</th>\n",
       "    </tr>\n",
       "  </thead>\n",
       "  <tbody>\n",
       "    <tr>\n",
       "      <th>23842</th>\n",
       "      <td>1</td>\n",
       "      <td>0</td>\n",
       "      <td>0</td>\n",
       "      <td>4</td>\n",
       "      <td>4</td>\n",
       "      <td>0</td>\n",
       "      <td>10</td>\n",
       "      <td>3</td>\n",
       "      <td>2</td>\n",
       "      <td>16</td>\n",
       "      <td>...</td>\n",
       "      <td>0</td>\n",
       "      <td>4</td>\n",
       "      <td>-1</td>\n",
       "      <td>3</td>\n",
       "      <td>20</td>\n",
       "      <td>1</td>\n",
       "      <td>0</td>\n",
       "      <td>1</td>\n",
       "      <td>1</td>\n",
       "      <td>1</td>\n",
       "    </tr>\n",
       "    <tr>\n",
       "      <th>26978</th>\n",
       "      <td>1</td>\n",
       "      <td>-1</td>\n",
       "      <td>0</td>\n",
       "      <td>4</td>\n",
       "      <td>4</td>\n",
       "      <td>0</td>\n",
       "      <td>10</td>\n",
       "      <td>27</td>\n",
       "      <td>2</td>\n",
       "      <td>-1</td>\n",
       "      <td>...</td>\n",
       "      <td>3</td>\n",
       "      <td>7</td>\n",
       "      <td>2</td>\n",
       "      <td>-1</td>\n",
       "      <td>20</td>\n",
       "      <td>1</td>\n",
       "      <td>0</td>\n",
       "      <td>0</td>\n",
       "      <td>0</td>\n",
       "      <td>1</td>\n",
       "    </tr>\n",
       "    <tr>\n",
       "      <th>26056</th>\n",
       "      <td>1</td>\n",
       "      <td>0</td>\n",
       "      <td>0</td>\n",
       "      <td>4</td>\n",
       "      <td>4</td>\n",
       "      <td>0</td>\n",
       "      <td>10</td>\n",
       "      <td>3</td>\n",
       "      <td>2</td>\n",
       "      <td>25</td>\n",
       "      <td>...</td>\n",
       "      <td>3</td>\n",
       "      <td>6</td>\n",
       "      <td>-1</td>\n",
       "      <td>3</td>\n",
       "      <td>20</td>\n",
       "      <td>1</td>\n",
       "      <td>0</td>\n",
       "      <td>1</td>\n",
       "      <td>0</td>\n",
       "      <td>1</td>\n",
       "    </tr>\n",
       "    <tr>\n",
       "      <th>6332</th>\n",
       "      <td>1</td>\n",
       "      <td>-1</td>\n",
       "      <td>1</td>\n",
       "      <td>1</td>\n",
       "      <td>3</td>\n",
       "      <td>0</td>\n",
       "      <td>10</td>\n",
       "      <td>3</td>\n",
       "      <td>2</td>\n",
       "      <td>4</td>\n",
       "      <td>...</td>\n",
       "      <td>2</td>\n",
       "      <td>2</td>\n",
       "      <td>-1</td>\n",
       "      <td>3</td>\n",
       "      <td>95</td>\n",
       "      <td>1</td>\n",
       "      <td>0</td>\n",
       "      <td>1</td>\n",
       "      <td>0</td>\n",
       "      <td>1</td>\n",
       "    </tr>\n",
       "    <tr>\n",
       "      <th>8755</th>\n",
       "      <td>1</td>\n",
       "      <td>0</td>\n",
       "      <td>1</td>\n",
       "      <td>1</td>\n",
       "      <td>0</td>\n",
       "      <td>0</td>\n",
       "      <td>10</td>\n",
       "      <td>3</td>\n",
       "      <td>2</td>\n",
       "      <td>4</td>\n",
       "      <td>...</td>\n",
       "      <td>0</td>\n",
       "      <td>5</td>\n",
       "      <td>-1</td>\n",
       "      <td>3</td>\n",
       "      <td>46</td>\n",
       "      <td>1</td>\n",
       "      <td>0</td>\n",
       "      <td>1</td>\n",
       "      <td>0</td>\n",
       "      <td>0</td>\n",
       "    </tr>\n",
       "  </tbody>\n",
       "</table>\n",
       "<p>5 rows × 36 columns</p>\n",
       "</div>"
      ],
      "text/plain": [
       "       Ag_Bg  Condition  DIMP_Material_for_Analysis  DIMP_Wrap  Dimpcp  \\\n",
       "23842      1          0                           0          4       4   \n",
       "26978      1         -1                           0          4       4   \n",
       "26056      1          0                           0          4       4   \n",
       "6332       1         -1                           1          1       3   \n",
       "8755       1          0                           1          1       0   \n",
       "\n",
       "       DIMPCause1  DIMPCause2  DIMPCause3  DIMP_Pressure  Damaging_Equipment  \\\n",
       "23842           0          10           3              2                  16   \n",
       "26978           0          10          27              2                  -1   \n",
       "26056           0          10           3              2                  25   \n",
       "6332            0          10           3              2                   4   \n",
       "8755            0          10           3              2                   4   \n",
       "\n",
       "       ...  Region  Reporting_Year  Riser_Type  ToE  Type_Repair  Leak_Haz  \\\n",
       "23842  ...       0               4          -1    3           20         1   \n",
       "26978  ...       3               7           2   -1           20         1   \n",
       "26056  ...       3               6          -1    3           20         1   \n",
       "6332   ...       2               2          -1    3           95         1   \n",
       "8755   ...       0               5          -1    3           46         1   \n",
       "\n",
       "       District_Haz  Exc_Haz  De_Haz  Li_Haz  \n",
       "23842             0        1       1       1  \n",
       "26978             0        0       0       1  \n",
       "26056             0        1       0       1  \n",
       "6332              0        1       0       1  \n",
       "8755              0        1       0       0  \n",
       "\n",
       "[5 rows x 36 columns]"
      ]
     },
     "execution_count": 20,
     "metadata": {},
     "output_type": "execute_result"
    }
   ],
   "source": [
    "%%time\n",
    "# Convert categorical variables to integers to pass through model\n",
    "df['Ag_Bg'] = df['Ag_Bg'].astype('category')\n",
    "df['Ag_Bg'] = df['Ag_Bg'].cat.codes\n",
    "\n",
    "df['Condition'] = df['Condition'].astype('category')\n",
    "df['Condition'] = df['Condition'].cat.codes\n",
    "\n",
    "df['Damaging_Equipment'] = df['Damaging_Equipment'].astype('category')\n",
    "df['Damaging_Equipment'] = df['Damaging_Equipment'].cat.codes\n",
    "\n",
    "df['DIMPCause1'] = df['DIMPCause1'].astype('category')\n",
    "df['DIMPCause1'] = df['DIMPCause1'].cat.codes\n",
    "\n",
    "df['DIMPCause2'] = df['DIMPCause2'].astype('category')\n",
    "df['DIMPCause2'] = df['DIMPCause2'].cat.codes\n",
    "\n",
    "df['DIMPCause3'] = df['DIMPCause3'].astype('category')\n",
    "df['DIMPCause3'] = df['DIMPCause3'].cat.codes\n",
    "\n",
    "df['Dimpcp'] = df['Dimpcp'].astype('category')\n",
    "df['Dimpcp'] = df['Dimpcp'].cat.codes\n",
    "\n",
    "df['District'] = df['District'].astype('category')\n",
    "df['District'] = df['District'].cat.codes\n",
    "\n",
    "df['DIMP_Material_for_Analysis'] = df['DIMP_Material_for_Analysis'].astype('category')\n",
    "df['DIMP_Material_for_Analysis'] = df['DIMP_Material_for_Analysis'].cat.codes\n",
    "\n",
    "df['DIMP_Pressure'] = df['DIMP_Pressure'].astype('category')\n",
    "df['DIMP_Pressure'] = df['DIMP_Pressure'].cat.codes\n",
    "\n",
    "df['DIMP_Wrap'] = df['DIMP_Wrap'].astype('category')\n",
    "df['DIMP_Wrap'] = df['DIMP_Wrap'].cat.codes\n",
    "\n",
    "df['EIR_NA'] = df['EIR_NA'].astype('category')\n",
    "df['EIR_NA'] = df['EIR_NA'].cat.codes\n",
    "\n",
    "df['Facility1'] = df['Facility1'].astype('category')\n",
    "df['Facility1'] = df['Facility1'].cat.codes\n",
    "\n",
    "df['Facility2'] = df['Facility2'].astype('category')\n",
    "df['Facility2'] = df['Facility2'].cat.codes\n",
    "\n",
    "df['Facility3'] = df['Facility3'].astype('category')\n",
    "df['Facility3'] = df['Facility3'].cat.codes\n",
    "\n",
    "df['Facility4'] = df['Facility4'].astype('category')\n",
    "df['Facility4'] = df['Facility4'].cat.codes\n",
    "\n",
    "df['Fitting_Type'] = df['Fitting_Type'].astype('category')\n",
    "df['Fitting_Type'] = df['Fitting_Type'].cat.codes\n",
    "\n",
    "df['GO-112F_Group'] = df['GO-112F_Group'].astype('category')\n",
    "df['GO-112F_Group'] = df['GO-112F_Group'].cat.codes\n",
    "\n",
    "df['Investigation_Reason'] = df['Investigation_Reason'].astype('category')\n",
    "df['Investigation_Reason'] = df['Investigation_Reason'].cat.codes\n",
    "\n",
    "df['Joint_Type'] = df['Joint_Type'].astype('category')\n",
    "df['Joint_Type'] = df['Joint_Type'].cat.codes\n",
    "\n",
    "df['Key_Observations'] = df['Key_Observations'].astype('category')\n",
    "df['Key_Observations'] = df['Key_Observations'].cat.codes\n",
    "\n",
    "df['LeakCode'] = df['LeakCode'].astype('category')\n",
    "df['LeakCode'] = df['LeakCode'].cat.codes\n",
    "\n",
    "df['Leak_Code_for_DOT'] = df['Leak_Code_for_DOT'].astype('category')\n",
    "df['Leak_Code_for_DOT'] = df['Leak_Code_for_DOT'].cat.codes\n",
    "\n",
    "df['Leak_In'] = df['Leak_In'].astype('category')\n",
    "df['Leak_In'] = df['Leak_In'].cat.codes\n",
    "\n",
    "df['Material'] = df['Material'].astype('category')\n",
    "df['Material'] = df['Material'].cat.codes\n",
    "\n",
    "df['Pipe_Size'] = df['Pipe_Size'].astype('category')\n",
    "df['Pipe_Size'] = df['Pipe_Size'].cat.codes\n",
    "\n",
    "df['Region'] = df['Region'].astype('category')\n",
    "df['Region'] = df['Region'].cat.codes\n",
    "\n",
    "df['Reporting_Year'] = df['Reporting_Year'].astype('category')\n",
    "df['Reporting_Year'] = df['Reporting_Year'].cat.codes\n",
    "\n",
    "df['Riser_Type'] = df['Riser_Type'].astype('category')\n",
    "df['Riser_Type'] = df['Riser_Type'].cat.codes\n",
    "\n",
    "df['ToE'] = df['ToE'].astype('category')\n",
    "df['ToE'] = df['ToE'].cat.codes\n",
    "\n",
    "df['Type_Repair'] = df['Type_Repair'].astype('category')\n",
    "df['Type_Repair'] = df['Type_Repair'].cat.codes\n",
    "\n",
    "df.head()"
   ]
  },
  {
   "cell_type": "markdown",
   "id": "geographic-dispatch",
   "metadata": {},
   "source": [
    "## Final Model with Logistic Regression"
   ]
  },
  {
   "cell_type": "code",
   "execution_count": 21,
   "id": "universal-voluntary",
   "metadata": {},
   "outputs": [],
   "source": [
    "y = df['Leak_Haz']\n",
    "X = df[['EIR_NA', 'District_Haz', 'Exc_Haz', 'De_Haz']]\n",
    "#X = df.drop(columns = ['Leak_Haz', 'Cause', 'Detect Date', 'Leak Fix Date', 'Key Observations', 'Leak Code for DOT', 'LeakCode'])"
   ]
  },
  {
   "cell_type": "code",
   "execution_count": 22,
   "id": "photographic-monroe",
   "metadata": {},
   "outputs": [
    {
     "data": {
      "text/plain": [
       "(20970, 4)"
      ]
     },
     "execution_count": 22,
     "metadata": {},
     "output_type": "execute_result"
    }
   ],
   "source": [
    "X.shape"
   ]
  },
  {
   "cell_type": "code",
   "execution_count": 23,
   "id": "baking-mapping",
   "metadata": {},
   "outputs": [
    {
     "data": {
      "text/plain": [
       "<Signature (penalty='l2', *, dual=False, tol=0.0001, C=1.0, fit_intercept=True, intercept_scaling=1, class_weight=None, random_state=None, solver='lbfgs', max_iter=100, multi_class='auto', verbose=0, warm_start=False, n_jobs=None, l1_ratio=None)>"
      ]
     },
     "execution_count": 23,
     "metadata": {},
     "output_type": "execute_result"
    }
   ],
   "source": [
    "inspect.signature(LogisticRegression)"
   ]
  },
  {
   "cell_type": "code",
   "execution_count": 24,
   "id": "organizational-distance",
   "metadata": {},
   "outputs": [],
   "source": [
    "est_model = LogisticRegression(penalty = 'none',\n",
    "                              C = 0.5,\n",
    "                              fit_intercept = True,\n",
    "                              class_weight = 'balanced',\n",
    "                              random_state = 1,\n",
    "                              max_iter = 10000,\n",
    "                              solver = 'lbfgs')"
   ]
  },
  {
   "cell_type": "code",
   "execution_count": 25,
   "id": "owned-westminster",
   "metadata": {},
   "outputs": [
    {
     "data": {
      "text/plain": [
       "LogisticRegression(C=0.5, class_weight='balanced', max_iter=10000,\n",
       "                   penalty='none', random_state=1)"
      ]
     },
     "execution_count": 25,
     "metadata": {},
     "output_type": "execute_result"
    }
   ],
   "source": [
    "est_model"
   ]
  },
  {
   "cell_type": "code",
   "execution_count": 26,
   "id": "comic-integrity",
   "metadata": {},
   "outputs": [
    {
     "name": "stderr",
     "output_type": "stream",
     "text": [
      "C:\\Users\\airit\\Anaconda3\\envs\\env-stats404-w21\\lib\\site-packages\\sklearn\\linear_model\\_logistic.py:1321: UserWarning: Setting penalty='none' will ignore the C and l1_ratio parameters\n",
      "  \"Setting penalty='none' will ignore the C and l1_ratio \"\n"
     ]
    },
    {
     "data": {
      "text/plain": [
       "LogisticRegression(C=0.5, class_weight='balanced', max_iter=10000,\n",
       "                   penalty='none', random_state=1)"
      ]
     },
     "execution_count": 26,
     "metadata": {},
     "output_type": "execute_result"
    }
   ],
   "source": [
    "est_model.fit(X, y)"
   ]
  },
  {
   "cell_type": "code",
   "execution_count": 27,
   "id": "extra-consensus",
   "metadata": {},
   "outputs": [
    {
     "data": {
      "text/html": [
       "<div>\n",
       "<style scoped>\n",
       "    .dataframe tbody tr th:only-of-type {\n",
       "        vertical-align: middle;\n",
       "    }\n",
       "\n",
       "    .dataframe tbody tr th {\n",
       "        vertical-align: top;\n",
       "    }\n",
       "\n",
       "    .dataframe thead th {\n",
       "        text-align: right;\n",
       "    }\n",
       "</style>\n",
       "<table border=\"1\" class=\"dataframe\">\n",
       "  <thead>\n",
       "    <tr style=\"text-align: right;\">\n",
       "      <th></th>\n",
       "      <th>feature_name</th>\n",
       "      <th>coef_est</th>\n",
       "    </tr>\n",
       "  </thead>\n",
       "  <tbody>\n",
       "    <tr>\n",
       "      <th>0</th>\n",
       "      <td>EIR_NA</td>\n",
       "      <td>-1.51</td>\n",
       "    </tr>\n",
       "    <tr>\n",
       "      <th>1</th>\n",
       "      <td>District_Haz</td>\n",
       "      <td>0.0</td>\n",
       "    </tr>\n",
       "    <tr>\n",
       "      <th>2</th>\n",
       "      <td>Exc_Haz</td>\n",
       "      <td>0.3</td>\n",
       "    </tr>\n",
       "    <tr>\n",
       "      <th>3</th>\n",
       "      <td>De_Haz</td>\n",
       "      <td>-0.06</td>\n",
       "    </tr>\n",
       "    <tr>\n",
       "      <th>0</th>\n",
       "      <td>intercept</td>\n",
       "      <td>0.526299</td>\n",
       "    </tr>\n",
       "  </tbody>\n",
       "</table>\n",
       "</div>"
      ],
      "text/plain": [
       "   feature_name  coef_est\n",
       "0        EIR_NA     -1.51\n",
       "1  District_Haz       0.0\n",
       "2       Exc_Haz       0.3\n",
       "3        De_Haz     -0.06\n",
       "0     intercept  0.526299"
      ]
     },
     "execution_count": 27,
     "metadata": {},
     "output_type": "execute_result"
    }
   ],
   "source": [
    "coefficients = [round(x, 2) for x in est_model.coef_.tolist()[0]]\n",
    "coef_df = pd.concat([pd.DataFrame(X.columns),\n",
    "                     pd.DataFrame(coefficients)],\n",
    "                    axis = 1)\n",
    "coef_df.columns = [\"feature_name\", \"coef_est\"]\n",
    "\n",
    "# DataFrame of intercept coefficient:\n",
    "intercept_df = pd.DataFrame([\"intercept\", est_model.intercept_.tolist()[0]]).T\n",
    "intercept_df.columns = [\"feature_name\", \"coef_est\"]\n",
    "\n",
    "# Combined DataFrame:\n",
    "coef_df = coef_df.append(intercept_df)\n",
    "coef_df.head()"
   ]
  },
  {
   "cell_type": "code",
   "execution_count": 28,
   "id": "indie-background",
   "metadata": {},
   "outputs": [],
   "source": [
    "# Compute odds:\n",
    "coef_df[\"odds\"] = [round(np.exp(x), 2) for x in coef_df['coef_est']]"
   ]
  },
  {
   "cell_type": "code",
   "execution_count": 29,
   "id": "swiss-professor",
   "metadata": {},
   "outputs": [
    {
     "data": {
      "text/plain": [
       "0.526299489557078"
      ]
     },
     "execution_count": 29,
     "metadata": {},
     "output_type": "execute_result"
    }
   ],
   "source": [
    "# Compute probabilities, which need intercept:\n",
    "intercept = intercept_df['coef_est'].values.tolist()[0]\n",
    "intercept"
   ]
  },
  {
   "cell_type": "code",
   "execution_count": 30,
   "id": "sunset-miami",
   "metadata": {},
   "outputs": [],
   "source": [
    "def inverse_logit(intercept, coefficient):\n",
    "    \"\"\"Fcn to help calculate probability associated with flight delay,\n",
    "       given our variable.\n",
    "    \"\"\"\n",
    "    if coefficient == intercept:\n",
    "        # Make sure we don't double-count the intercept:\n",
    "        coefficient = 0\n",
    "    inv_logit = np.exp(intercept + coefficient)/(1+np.exp(intercept + coefficient))\n",
    "    return round(inv_logit, 2)\n",
    "                           \n",
    "coef_df[\"prob\"] = [inverse_logit(intercept, x) for x in coef_df['coef_est']]"
   ]
  },
  {
   "cell_type": "code",
   "execution_count": 31,
   "id": "packed-category",
   "metadata": {},
   "outputs": [
    {
     "data": {
      "text/html": [
       "<div>\n",
       "<style scoped>\n",
       "    .dataframe tbody tr th:only-of-type {\n",
       "        vertical-align: middle;\n",
       "    }\n",
       "\n",
       "    .dataframe tbody tr th {\n",
       "        vertical-align: top;\n",
       "    }\n",
       "\n",
       "    .dataframe thead th {\n",
       "        text-align: right;\n",
       "    }\n",
       "</style>\n",
       "<table border=\"1\" class=\"dataframe\">\n",
       "  <thead>\n",
       "    <tr style=\"text-align: right;\">\n",
       "      <th></th>\n",
       "      <th>0</th>\n",
       "      <th>1</th>\n",
       "      <th>2</th>\n",
       "      <th>3</th>\n",
       "      <th>0</th>\n",
       "    </tr>\n",
       "  </thead>\n",
       "  <tbody>\n",
       "    <tr>\n",
       "      <th>feature_name</th>\n",
       "      <td>EIR_NA</td>\n",
       "      <td>District_Haz</td>\n",
       "      <td>Exc_Haz</td>\n",
       "      <td>De_Haz</td>\n",
       "      <td>intercept</td>\n",
       "    </tr>\n",
       "    <tr>\n",
       "      <th>coef_est</th>\n",
       "      <td>-1.51</td>\n",
       "      <td>0.0</td>\n",
       "      <td>0.3</td>\n",
       "      <td>-0.06</td>\n",
       "      <td>0.526299</td>\n",
       "    </tr>\n",
       "    <tr>\n",
       "      <th>odds</th>\n",
       "      <td>0.22</td>\n",
       "      <td>1.0</td>\n",
       "      <td>1.35</td>\n",
       "      <td>0.94</td>\n",
       "      <td>1.69</td>\n",
       "    </tr>\n",
       "    <tr>\n",
       "      <th>prob</th>\n",
       "      <td>0.27</td>\n",
       "      <td>0.63</td>\n",
       "      <td>0.7</td>\n",
       "      <td>0.61</td>\n",
       "      <td>0.63</td>\n",
       "    </tr>\n",
       "  </tbody>\n",
       "</table>\n",
       "</div>"
      ],
      "text/plain": [
       "                   0             1        2       3          0\n",
       "feature_name  EIR_NA  District_Haz  Exc_Haz  De_Haz  intercept\n",
       "coef_est       -1.51           0.0      0.3   -0.06   0.526299\n",
       "odds            0.22           1.0     1.35    0.94       1.69\n",
       "prob            0.27          0.63      0.7    0.61       0.63"
      ]
     },
     "execution_count": 31,
     "metadata": {},
     "output_type": "execute_result"
    }
   ],
   "source": [
    "coef_df.T"
   ]
  },
  {
   "cell_type": "code",
   "execution_count": 32,
   "id": "endangered-walter",
   "metadata": {},
   "outputs": [
    {
     "data": {
      "text/plain": [
       "array([1, 0, 1, 1, 1], dtype=int64)"
      ]
     },
     "execution_count": 32,
     "metadata": {},
     "output_type": "execute_result"
    }
   ],
   "source": [
    "y_pred_train = est_model.predict(X)\n",
    "y_pred_train[0:5]"
   ]
  },
  {
   "cell_type": "code",
   "execution_count": 33,
   "id": "verified-fraction",
   "metadata": {},
   "outputs": [
    {
     "data": {
      "text/html": [
       "<div>\n",
       "<style scoped>\n",
       "    .dataframe tbody tr th:only-of-type {\n",
       "        vertical-align: middle;\n",
       "    }\n",
       "\n",
       "    .dataframe tbody tr th {\n",
       "        vertical-align: top;\n",
       "    }\n",
       "\n",
       "    .dataframe thead th {\n",
       "        text-align: right;\n",
       "    }\n",
       "</style>\n",
       "<table border=\"1\" class=\"dataframe\">\n",
       "  <thead>\n",
       "    <tr style=\"text-align: right;\">\n",
       "      <th></th>\n",
       "      <th>0</th>\n",
       "      <th>1</th>\n",
       "    </tr>\n",
       "  </thead>\n",
       "  <tbody>\n",
       "    <tr>\n",
       "      <th>0</th>\n",
       "      <td>0.316311</td>\n",
       "      <td>0.683689</td>\n",
       "    </tr>\n",
       "    <tr>\n",
       "      <th>1</th>\n",
       "      <td>0.727578</td>\n",
       "      <td>0.272422</td>\n",
       "    </tr>\n",
       "    <tr>\n",
       "      <th>2</th>\n",
       "      <td>0.303536</td>\n",
       "      <td>0.696464</td>\n",
       "    </tr>\n",
       "    <tr>\n",
       "      <th>3</th>\n",
       "      <td>0.303536</td>\n",
       "      <td>0.696464</td>\n",
       "    </tr>\n",
       "    <tr>\n",
       "      <th>4</th>\n",
       "      <td>0.303536</td>\n",
       "      <td>0.696464</td>\n",
       "    </tr>\n",
       "  </tbody>\n",
       "</table>\n",
       "</div>"
      ],
      "text/plain": [
       "          0         1\n",
       "0  0.316311  0.683689\n",
       "1  0.727578  0.272422\n",
       "2  0.303536  0.696464\n",
       "3  0.303536  0.696464\n",
       "4  0.303536  0.696464"
      ]
     },
     "execution_count": 33,
     "metadata": {},
     "output_type": "execute_result"
    }
   ],
   "source": [
    "y_pred_train_probs = pd.DataFrame(est_model.predict_proba(X))\n",
    "y_pred_train_probs.head()"
   ]
  },
  {
   "cell_type": "code",
   "execution_count": 34,
   "id": "funded-movie",
   "metadata": {},
   "outputs": [
    {
     "data": {
      "text/plain": [
       "<Signature (y_true, y_pred, *, labels=None, sample_weight=None, normalize=None)>"
      ]
     },
     "execution_count": 34,
     "metadata": {},
     "output_type": "execute_result"
    }
   ],
   "source": [
    "inspect.signature(confusion_matrix)"
   ]
  },
  {
   "cell_type": "code",
   "execution_count": 35,
   "id": "swedish-moment",
   "metadata": {},
   "outputs": [
    {
     "data": {
      "text/plain": [
       "array([[  187,   112],\n",
       "       [ 4842, 15829]], dtype=int64)"
      ]
     },
     "execution_count": 35,
     "metadata": {},
     "output_type": "execute_result"
    }
   ],
   "source": [
    "confusion_matrix(y_true=y,\n",
    "                 y_pred=y_pred_train)"
   ]
  },
  {
   "cell_type": "code",
   "execution_count": 36,
   "id": "familiar-truth",
   "metadata": {},
   "outputs": [
    {
     "data": {
      "text/plain": [
       "<Signature (y_true, y_score, *, average='macro', sample_weight=None, max_fpr=None, multi_class='raise', labels=None)>"
      ]
     },
     "execution_count": 36,
     "metadata": {},
     "output_type": "execute_result"
    }
   ],
   "source": [
    "inspect.signature(roc_auc_score)"
   ]
  },
  {
   "cell_type": "code",
   "execution_count": 37,
   "id": "frequent-exhibit",
   "metadata": {},
   "outputs": [
    {
     "data": {
      "text/plain": [
       "0.7084621160726522"
      ]
     },
     "execution_count": 37,
     "metadata": {},
     "output_type": "execute_result"
    }
   ],
   "source": [
    "roc_auc_score(y_true=y,\n",
    "              y_score=y_pred_train_probs.iloc[:, 1])"
   ]
  },
  {
   "cell_type": "code",
   "execution_count": 42,
   "id": "industrial-interference",
   "metadata": {},
   "outputs": [
    {
     "data": {
      "text/plain": [
       "0.7637577491654745"
      ]
     },
     "execution_count": 42,
     "metadata": {},
     "output_type": "execute_result"
    }
   ],
   "source": [
    "est_model.score(X, y)"
   ]
  }
 ],
 "metadata": {
  "kernelspec": {
   "display_name": "env-stats404-w21",
   "language": "python",
   "name": "env-stats404-w21"
  },
  "language_info": {
   "codemirror_mode": {
    "name": "ipython",
    "version": 3
   },
   "file_extension": ".py",
   "mimetype": "text/x-python",
   "name": "python",
   "nbconvert_exporter": "python",
   "pygments_lexer": "ipython3",
   "version": "3.7.0"
  }
 },
 "nbformat": 4,
 "nbformat_minor": 5
}
